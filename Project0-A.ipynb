{
 "cells": [
  {
   "cell_type": "code",
   "execution_count": 1,
   "metadata": {},
   "outputs": [
    {
     "name": "stdout",
     "output_type": "stream",
     "text": [
      "[('', 103787), ('the', 78844), ('and', 45168), ('of', 44739), ('to', 33436), ('a', 24234), ('in', 22126), ('that', 14818), ('he', 13019), ('is', 12918), ('his', 12270), ('i', 11044), ('with', 10296), ('for', 10036), ('as', 9639), ('be', 8834), ('was', 8787), ('not', 8141), ('it', 8123), ('but', 7856), ('by', 7701), ('or', 7407), ('her', 7403), ('they', 6735), ('which', 6517), ('you', 6354), ('on', 6214), ('from', 5811), ('at', 5695), ('are', 5590), ('she', 5458), ('all', 5437), ('their', 5285), ('have', 5146), ('had', 4647), ('this', 4090), ('my', 3841), ('so', 3710), ('we', 3629), ('no', 3620)]\n",
      "test_case_line\n"
     ]
    }
   ],
   "source": [
    "import re, string\n",
    "import json\n",
    "#create Path for source Data\n",
    "path = 'C:/DSP'\n",
    "listing = os.listdir(path)\n",
    "#add first file to Path\n",
    "rdd1 = sc.textFile(\"C:/DSP/\" +listing[0])\n",
    "#add following files\n",
    "for file in listing[1:]:\n",
    "    rdd1 += sc.textFile('C:/DSP/' +file)\n",
    "#word counter\n",
    "counts = rdd1.flatMap(lambda line: line.split(' '))\\\n",
    "             .map(lambda word: (word.lower(), 1)) \\\n",
    "             .reduceByKey(lambda a, b: a + b).filter(lambda x:x[1] > 2)#filter words having value less than 2\n",
    "#sort in decending prder and take top 40, this forms a list\n",
    "topn = counts.sortBy(lambda x: x[1], ascending=False).take(40)\n",
    "#topn.saveAsTextFile('output.txt')\n",
    "#this cannot be done since RDD goes with textfile\n",
    "print(topn)\n",
    "#export to json\n",
    "finaloutputA = dict(topn)\n",
    "with open('sp1.json', 'w') as g:\n",
    "    json.dump(finaloutputA, g)\n",
    "#just random print line to know the whole program is executed\n",
    "print('test_case_line')"
   ]
  },
  {
   "cell_type": "code",
   "execution_count": null,
   "metadata": {
    "collapsed": true
   },
   "outputs": [],
   "source": []
  },
  {
   "cell_type": "code",
   "execution_count": null,
   "metadata": {
    "collapsed": true
   },
   "outputs": [],
   "source": []
  }
 ],
 "metadata": {
  "kernelspec": {
   "display_name": "Python 3",
   "language": "python",
   "name": "python3"
  },
  "language_info": {
   "codemirror_mode": {
    "name": "ipython",
    "version": 3
   },
   "file_extension": ".py",
   "mimetype": "text/x-python",
   "name": "python",
   "nbconvert_exporter": "python",
   "pygments_lexer": "ipython3",
   "version": "3.6.3"
  }
 },
 "nbformat": 4,
 "nbformat_minor": 2
}
