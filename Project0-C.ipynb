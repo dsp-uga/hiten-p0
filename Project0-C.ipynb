{
 "cells": [
  {
   "cell_type": "code",
   "execution_count": 1,
   "metadata": {},
   "outputs": [
    {
     "ename": "NameError",
     "evalue": "name 'sc' is not defined",
     "output_type": "error",
     "traceback": [
      "\u001b[1;31m---------------------------------------------------------------------------\u001b[0m",
      "\u001b[1;31mNameError\u001b[0m                                 Traceback (most recent call last)",
      "\u001b[1;32m<ipython-input-1-2ad35c2536a2>\u001b[0m in \u001b[0;36m<module>\u001b[1;34m()\u001b[0m\n\u001b[0;32m      4\u001b[0m \u001b[1;31m#import punctuaution library with contains all special characters\u001b[0m\u001b[1;33m\u001b[0m\u001b[1;33m\u001b[0m\u001b[0m\n\u001b[0;32m      5\u001b[0m \u001b[1;32mimport\u001b[0m \u001b[0mjson\u001b[0m\u001b[1;33m\u001b[0m\u001b[0m\n\u001b[1;32m----> 6\u001b[1;33m \u001b[0mstopWords\u001b[0m \u001b[1;33m=\u001b[0m \u001b[0msc\u001b[0m\u001b[1;33m.\u001b[0m\u001b[0mtextFile\u001b[0m\u001b[1;33m(\u001b[0m\u001b[1;34m\"stopwords.txt\"\u001b[0m\u001b[1;33m)\u001b[0m\u001b[1;33m\u001b[0m\u001b[0m\n\u001b[0m\u001b[0;32m      7\u001b[0m \u001b[0mbroadcastsw\u001b[0m \u001b[1;33m=\u001b[0m \u001b[0msc\u001b[0m\u001b[1;33m.\u001b[0m\u001b[0mbroadcast\u001b[0m\u001b[1;33m(\u001b[0m\u001b[0mstopWords\u001b[0m\u001b[1;33m.\u001b[0m\u001b[0mcollect\u001b[0m\u001b[1;33m(\u001b[0m\u001b[1;33m)\u001b[0m\u001b[1;33m)\u001b[0m\u001b[1;33m\u001b[0m\u001b[0m\n\u001b[0;32m      8\u001b[0m \u001b[0mbroadcastsw\u001b[0m\u001b[1;33m.\u001b[0m\u001b[0mvalue\u001b[0m\u001b[1;33m\u001b[0m\u001b[0m\n",
      "\u001b[1;31mNameError\u001b[0m: name 'sc' is not defined"
     ]
    }
   ],
   "source": [
    "#project c final\n",
    "import re, string\n",
    "from string import punctuation\n",
    "#import punctuaution library with contains all special characters\n",
    "import json\n",
    "stopWords = sc.textFile(\"stopwords.txt\")\n",
    "broadcastsw = sc.broadcast(stopWords.collect())\n",
    "broadcastsw.value\n",
    "path = 'C:/DSP'\n",
    "listing = os.listdir(path)\n",
    "rdd1 = sc.textFile(\"C:/DSP/\" +listing[0])\n",
    "for file in listing[1:]:\n",
    "    rdd1 += sc.textFile('C:/DSP/' +file)\n",
    "#rdd2 = rdd1.map( lambda x: x.replace('.','').replace(',','').replace(':','').replace(';','').replace('!','').replace('?',''))\n",
    "#replace funcation is not efficient\n",
    "rdd2=rdd1.map(lambda x: x.lstrip(punctuation)) #remove leading punctuaion\n",
    "rdd3=rdd2.map(lambda x: x.rstrip(punctuation)) #remove trailing punctuaion\n",
    "counts = rdd3.flatMap(lambda line: line.split(' '))\\\n",
    "             .map(lambda word: (word.lower(), 1)) \\\n",
    "             .reduceByKey(lambda a, b: a + b)\n",
    "rdd4=counts.filter(lambda x:x[0] not in broadcastsw.value)\n",
    "#now filtering values > 1 \n",
    "rdd5 = rdd4.filter(lambda x: len(x[0]) > 1 ) \n",
    "topn = rdd5.sortBy(lambda x: x[1], ascending=False).take(40)\n",
    "#topn.saveAsTextFile('output.txt')\n",
    "#this cannot be done since RDD goes with textfile list\n",
    "print(topn)\n",
    "\n",
    "finaloutputB = dict(topn)\n",
    "with open('sp3.json', 'w') as g:\n",
    "    json.dump(finaloutputB, g)\n",
    "print('test_case_line')\n",
    "\n",
    "\n",
    "\n",
    "\n",
    "\n"
   ]
  },
  {
   "cell_type": "code",
   "execution_count": null,
   "metadata": {
    "collapsed": true
   },
   "outputs": [],
   "source": []
  }
 ],
 "metadata": {
  "kernelspec": {
   "display_name": "Python 3",
   "language": "python",
   "name": "python3"
  },
  "language_info": {
   "codemirror_mode": {
    "name": "ipython",
    "version": 3
   },
   "file_extension": ".py",
   "mimetype": "text/x-python",
   "name": "python",
   "nbconvert_exporter": "python",
   "pygments_lexer": "ipython3",
   "version": "3.6.3"
  }
 },
 "nbformat": 4,
 "nbformat_minor": 2
}
