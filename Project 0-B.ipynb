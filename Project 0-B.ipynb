{
 "cells": [
  {
   "cell_type": "code",
   "execution_count": 1,
   "metadata": {},
   "outputs": [
    {
     "name": "stdout",
     "output_type": "stream",
     "text": [
      "test_case_line\n"
     ]
    }
   ],
   "source": [
    "#project B final\n",
    "import re, string\n",
    "import json\n",
    "#sw=open('stopwords.txt')\n",
    "#stopwords=sw.read(), we can use this techiique, but it creates a list and not rdd\n",
    "stopWords = sc.textFile(\"stopwords.txt\")\n",
    "#broadcasting stopwords rdd\n",
    "broadcastsw = sc.broadcast(stopWords.collect())\n",
    "broadcastsw.value\n",
    "path = 'C:/DSP'\n",
    "listing = os.listdir(path)\n",
    "rdd1 = sc.textFile(\"C:/DSP/\" +listing[0])\n",
    "for file in listing[1:]:\n",
    "    rdd1 += sc.textFile('C:/DSP/' +file)\n",
    "counts = rdd1.flatMap(lambda line: line.split(' '))\\\n",
    "             .map(lambda word: (word.lower(), 1)) \\\n",
    "             .reduceByKey(lambda a, b: a + b)\n",
    "#filtering stopwords-broadcast variable\n",
    "rddfinal=counts.filter(lambda x:x[0] not in broadcastsw.value)\n",
    "topn = rddfinal.sortBy(lambda x: x[1], ascending=False).take(40)\n",
    "\n",
    "print(topn)\n",
    "\n",
    "finaloutputB = dict(topn)\n",
    "with open('sp2.json', 'w') as g:\n",
    "    json.dump(finaloutputB, g)\n",
    "print('test_case_line')\n",
    "\n",
    "\n",
    "\n"
   ]
  },
  {
   "cell_type": "code",
   "execution_count": null,
   "metadata": {
    "collapsed": true
   },
   "outputs": [],
   "source": []
  }
 ],
 "metadata": {
  "kernelspec": {
   "display_name": "Python 3",
   "language": "python",
   "name": "python3"
  },
  "language_info": {
   "codemirror_mode": {
    "name": "ipython",
    "version": 3
   },
   "file_extension": ".py",
   "mimetype": "text/x-python",
   "name": "python",
   "nbconvert_exporter": "python",
   "pygments_lexer": "ipython3",
   "version": "3.6.3"
  }
 },
 "nbformat": 4,
 "nbformat_minor": 2
}
